{
 "cells": [
  {
   "cell_type": "markdown",
   "id": "171f46c7",
   "metadata": {},
   "source": [
    "## Coding Scenario: Personal Profile and Preferences\n"
   ]
  },
  {
   "cell_type": "markdown",
   "id": "6d583ecb",
   "metadata": {},
   "source": [
    "#### Objective: You are tasked with creating a Python script to represent and process personal profile information and preferences. This scenario will test your knowledge of strings, integers, lists, tuples, dictionaries, and boolean data types in Python.\n",
    "\n",
    "\n"
   ]
  },
  {
   "cell_type": "markdown",
   "id": "724bfaf3",
   "metadata": {},
   "source": [
    "#### Scenario Description:\n",
    "#### Imagine you are designing a simple profile for a social media application. Each user profile contains basic personal information, a list of favorite hobbies, preferred screen dimensions for viewing the app, and a brief description of their pet.\n",
    "\n"
   ]
  },
  {
   "cell_type": "markdown",
   "id": "005893f1",
   "metadata": {},
   "source": [
    "### Task Instructions:"
   ]
  },
  {
   "cell_type": "markdown",
   "id": "a4d45f51",
   "metadata": {},
   "source": [
    "\n",
    "### 1. Personal Information\n",
    "```\n",
    "Create a variable name (str) to store the user's name.\n",
    "Create a variable age (int) to store the user's age.\n",
    "Print a greeting message using these variables, e.g., \"Hello, my name is Alice and I am 30 years old.\"\n",
    "```"
   ]
  },
  {
   "cell_type": "code",
   "execution_count": 6,
   "id": "6098a1cf",
   "metadata": {},
   "outputs": [
    {
     "name": "stdout",
     "output_type": "stream",
     "text": [
      "Hello, my name is  Alice and I am 21 years old.\n"
     ]
    }
   ],
   "source": [
    "name= \"Alice\"\n",
    "age=21\n",
    "print(f\"Hello, my name is  {name} and I am {age} years old.\")"
   ]
  },
  {
   "cell_type": "markdown",
   "id": "709a0b3e",
   "metadata": {},
   "source": [
    "### 2. Favorite Hobbies\n",
    "```\n",
    "Create a list favorite_hobbies containing at least three hobbies as strings.\n",
    "Add another hobby to this list and print the updated list.\n",
    "```"
   ]
  },
  {
   "cell_type": "code",
   "execution_count": 14,
   "id": "52c93e95",
   "metadata": {},
   "outputs": [
    {
     "name": "stdout",
     "output_type": "stream",
     "text": [
      "['Coding', 'Reading', 'Singing', 'Dancing']\n"
     ]
    }
   ],
   "source": [
    "hobbies=[\"Playing\",\"Reading\",\"Singing\"]\n",
    "hobbies.append(\"Dancing\")\n",
    "hobbies[0]=\"Coding\"\n",
    "print(hobbies)\n"
   ]
  },
  {
   "cell_type": "markdown",
   "id": "249265a1",
   "metadata": {},
   "source": [
    "### 3. Screen Dimensions\n",
    "```\n",
    "Define a tuple screen_dimensions with two integers representing the width and height of the user's preferred screen size for the app.\n",
    "Attempt to modify one of the values in the tuple to simulate an attempt to change screen preferences and comment on the outcome.\n",
    "```"
   ]
  },
  {
   "cell_type": "code",
   "execution_count": 17,
   "id": "f4500ef2",
   "metadata": {},
   "outputs": [
    {
     "name": "stdout",
     "output_type": "stream",
     "text": [
      "(12, 20)\n"
     ]
    },
    {
     "ename": "TypeError",
     "evalue": "'tuple' object does not support item assignment",
     "output_type": "error",
     "traceback": [
      "\u001b[1;31m---------------------------------------------------------------------------\u001b[0m",
      "\u001b[1;31mTypeError\u001b[0m                                 Traceback (most recent call last)",
      "Cell \u001b[1;32mIn[17], line 3\u001b[0m\n\u001b[0;32m      1\u001b[0m prefered_dimensions\u001b[38;5;241m=\u001b[39m(\u001b[38;5;241m12\u001b[39m,\u001b[38;5;241m20\u001b[39m)\n\u001b[0;32m      2\u001b[0m \u001b[38;5;28mprint\u001b[39m(prefered_dimensions)\n\u001b[1;32m----> 3\u001b[0m prefered_dimensions[\u001b[38;5;241m0\u001b[39m]\u001b[38;5;241m=\u001b[39m\u001b[38;5;241m23\u001b[39m\n",
      "\u001b[1;31mTypeError\u001b[0m: 'tuple' object does not support item assignment"
     ]
    }
   ],
   "source": [
    "prefered_dimensions=(12,20)\n",
    "print(prefered_dimensions)\n",
    "prefered_dimensions[0]=23\n",
    "\n",
    "# Tuple are unchangable"
   ]
  },
  {
   "cell_type": "markdown",
   "id": "26ee300e",
   "metadata": {},
   "source": [
    "### 4. Pet Description\n",
    "```\n",
    "Create a dictionary pet to describe the user's pet. It should include keys for type, name, age, and later, color.\n",
    "Add a color key to the pet dictionary with an appropriate value and print the pet's name and color.\n",
    "```"
   ]
  },
  {
   "cell_type": "code",
   "execution_count": 30,
   "id": "3c0510be",
   "metadata": {},
   "outputs": [
    {
     "name": "stdout",
     "output_type": "stream",
     "text": [
      "Rocky\n",
      "brown\n"
     ]
    }
   ],
   "source": [
    "pets = {\n",
    "       \"type\":\"dog\",\n",
    "       \"name\":\"Rocky\",\n",
    "       \"age\":\"4\"    \n",
    "    }\n",
    "pets['color']=\"brown\"\n",
    "print(pets['name'])\n",
    "print(pets['color'])\n"
   ]
  },
  {
   "cell_type": "markdown",
   "id": "55f5dff2",
   "metadata": {},
   "source": [
    "### 5. Adult Status\n",
    "```\n",
    "Determine if the user is an adult with a boolean variable is_adult. Consider someone an adult if they are 18 years old or more.\n",
    "Using conditional logic, print \"I am an adult.\" if true, and \"I am not an adult.\" if false.\n",
    "```"
   ]
  },
  {
   "cell_type": "code",
   "execution_count": 39,
   "id": "d0751ef4",
   "metadata": {},
   "outputs": [
    {
     "name": "stdout",
     "output_type": "stream",
     "text": [
      "I am an adult\n"
     ]
    }
   ],
   "source": [
    "age=18\n",
    "if age>=18:\n",
    "    print(\"I am an adult\")\n",
    "else:\n",
    "    print(\"I am not an adult\")"
   ]
  },
  {
   "cell_type": "code",
   "execution_count": 40,
   "id": "5e00f62e",
   "metadata": {},
   "outputs": [
    {
     "name": "stdout",
     "output_type": "stream",
     "text": [
      "I am an adult\n"
     ]
    }
   ],
   "source": [
    "is_adult = age >= 18\n",
    "if is_adult:\n",
    "    print(\"I am an adult\")\n",
    "else:\n",
    "    print(\"I am not an adult\")"
   ]
  },
  {
   "cell_type": "code",
   "execution_count": 37,
   "id": "7a640533",
   "metadata": {},
   "outputs": [
    {
     "name": "stdout",
     "output_type": "stream",
     "text": [
      "False\n"
     ]
    }
   ],
   "source": [
    "\n",
    "print(is_adult)"
   ]
  },
  {
   "cell_type": "markdown",
   "id": "5357ed75",
   "metadata": {},
   "source": [
    "## Question : Book Keeper"
   ]
  },
  {
   "cell_type": "markdown",
   "id": "1dce932e",
   "metadata": {},
   "source": [
    "### Task 01: Create a Book Filtering Function"
   ]
  },
  {
   "cell_type": "code",
   "execution_count": 39,
   "id": "8fcc4838",
   "metadata": {},
   "outputs": [
    {
     "name": "stdout",
     "output_type": "stream",
     "text": [
      "['The Alchemist', 'To Kill a Mockingbird']\n"
     ]
    }
   ],
   "source": [
    "# Defining a list of tuple, it is a globle and can be called from inside the function also\n",
    "books = [\n",
    "    (\"The Alchemist\", \"Fiction\", 1988, 250),\n",
    "    (\"The Da Vinci Code\", \"Mystery\", 2003, 300),\n",
    "    (\"A Brief History of Time\", \"Science\", 1988, 150),\n",
    "    (\"The Theory of Everything\", \"Science\", 2002, 100),\n",
    "    (\"Pride and Prejudice\", \"Fiction\", 1813, 200),\n",
    "    (\"To Kill a Mockingbird\", \"Fiction\", 1960, 180),\n",
    "    (\"The Catcher in the Rye\", \"Fiction\", 1951, 220),\n",
    "    (\"Angels & Demons\", \"Mystery\", 2000, 210),\n",
    "    (\"The Grand Design\", \"Science\", 2010, 90),\n",
    "    (\"1984\", \"Fiction\", 1949, 190)\n",
    "]\n",
    "# defining a empty list that can contain the filtered books filtered out from the filter_books function\n",
    "filtered_books=[]\n",
    "\n",
    "#Defining a function filter_books that can filter the given conditions\n",
    "def filter_books(genre,year):\n",
    "    for book in books:\n",
    "        if book[1]==genre and book[2]>=year:\n",
    "            filtered_books.append(book[0]) # adding the books in list that match the given condition\n",
    "    return filtered_books\n",
    "\n",
    "#Calling the function\n",
    "print(filter_books(\"Fiction\",1960))\n",
    "\n",
    "    \n"
   ]
  },
  {
   "cell_type": "markdown",
   "id": "a9a2be61",
   "metadata": {},
   "source": [
    "### Task 02 : Write a Python program that uses a lambda expression to sort this list by publication year in ascending order. Print the sorted list of books.\n",
    "```\n",
    "Try using a lambda expression with the sorted() function\n",
    "```"
   ]
  },
  {
   "cell_type": "code",
   "execution_count": 83,
   "id": "d39cd89c",
   "metadata": {},
   "outputs": [
    {
     "name": "stdout",
     "output_type": "stream",
     "text": [
      "[('Pride and Prejudice', 'Fiction', 1813, 200), ('1984', 'Fiction', 1949, 190), ('The Catcher in the Rye', 'Fiction', 1951, 220), ('To Kill a Mockingbird', 'Fiction', 1960, 180), ('The Alchemist', 'Fiction', 1988, 250), ('A Brief History of Time', 'Science', 1988, 150), ('Angels & Demons', 'Mystery', 2000, 210), ('The Theory of Everything', 'Science', 2002, 100), ('The Da Vinci Code', 'Mystery', 2003, 300), ('The Grand Design', 'Science', 2010, 90)]\n"
     ]
    }
   ],
   "source": [
    "# Defining a list of tuple, it is a globle and can be called from inside the function also\n",
    "books = [\n",
    "    (\"The Alchemist\", \"Fiction\", 1988, 250),\n",
    "    (\"The Da Vinci Code\", \"Mystery\", 2003, 300),\n",
    "    (\"A Brief History of Time\", \"Science\", 1988, 150),\n",
    "    (\"The Theory of Everything\", \"Science\", 2002, 100),\n",
    "    (\"Pride and Prejudice\", \"Fiction\", 1813, 200),\n",
    "    (\"To Kill a Mockingbird\", \"Fiction\", 1960, 180),\n",
    "    (\"The Catcher in the Rye\", \"Fiction\", 1951, 220),\n",
    "    (\"Angels & Demons\", \"Mystery\", 2000, 210),\n",
    "    (\"The Grand Design\", \"Science\", 2010, 90),\n",
    "    (\"1984\", \"Fiction\", 1949, 190)\n",
    "]\n",
    "\n",
    "#Defining a empty list that contain the list of books after sorting\n",
    "sorted_book=[]\n",
    "\n",
    "#using a sorted and lambda function to sort the list of tuple function a\n",
    "sorted_book=sorted(books, key= lambda item: item[2], reverse=False)\n",
    "print(sorted_book)\n",
    "    \n",
    "    "
   ]
  },
  {
   "cell_type": "markdown",
   "id": "94668e06",
   "metadata": {},
   "source": [
    "### Above Program is done with this reference of using sorted and lambda function"
   ]
  },
  {
   "cell_type": "code",
   "execution_count": 66,
   "id": "b8fa428e",
   "metadata": {},
   "outputs": [
    {
     "data": {
      "text/plain": [
       "dict_values(['khadka', 'male', 'data scienctist', 'married'])"
      ]
     },
     "execution_count": 66,
     "metadata": {},
     "output_type": "execute_result"
    }
   ],
   "source": [
    "# Above Program is done with this reference of using sorted and lambda function\n",
    "person = {'name': 'khadka',\n",
    " 'gender': 'male',\n",
    " 'job': 'data scienctist',\n",
    " 'status': 'married'}\n",
    "person.keys()\n",
    "person.values()"
   ]
  },
  {
   "cell_type": "code",
   "execution_count": 67,
   "id": "e4f72e52",
   "metadata": {},
   "outputs": [
    {
     "data": {
      "text/plain": [
       "dict_items([('name', 'khadka'), ('gender', 'male'), ('job', 'data scienctist'), ('status', 'married')])"
      ]
     },
     "execution_count": 67,
     "metadata": {},
     "output_type": "execute_result"
    }
   ],
   "source": [
    "person.items()"
   ]
  },
  {
   "cell_type": "code",
   "execution_count": 85,
   "id": "2f05a5b9",
   "metadata": {},
   "outputs": [
    {
     "data": {
      "text/plain": [
       "{'gender': 'male',\n",
       " 'job': 'data scienctist',\n",
       " 'name': 'khadka',\n",
       " 'status': 'married'}"
      ]
     },
     "execution_count": 85,
     "metadata": {},
     "output_type": "execute_result"
    }
   ],
   "source": [
    "# Sorting the dictionary using key\n",
    "dict(\n",
    "    sorted(\n",
    "        person.items(), key= lambda item: item[0], reverse=False\n",
    "        )\n",
    "    )"
   ]
  },
  {
   "cell_type": "markdown",
   "id": "e04c2d6f",
   "metadata": {},
   "source": [
    "## Lets Merge the two task Task01 and Task 02 of Question : Book Keeper \n",
    "```\n",
    "Here we simply will define two different function \n",
    "1. Filter function, filter_books\n",
    "2. Sorting function, sort_books\n",
    "3. Call the function\n",
    "```"
   ]
  },
  {
   "cell_type": "code",
   "execution_count": 90,
   "id": "02d2c393",
   "metadata": {},
   "outputs": [
    {
     "name": "stdout",
     "output_type": "stream",
     "text": [
      "Here we get the  List of books filtered by genre 'Fiction' and released on either '1960' or after '1960'\n",
      "['The Alchemist', 'To Kill a Mockingbird']\n",
      "\n",
      "\n",
      "Here we get the list of books sorted by publication year in ascending \n",
      "[('Pride and Prejudice', 'Fiction', 1813, 200), ('1984', 'Fiction', 1949, 190), ('The Catcher in the Rye', 'Fiction', 1951, 220), ('To Kill a Mockingbird', 'Fiction', 1960, 180), ('The Alchemist', 'Fiction', 1988, 250), ('A Brief History of Time', 'Science', 1988, 150), ('Angels & Demons', 'Mystery', 2000, 210), ('The Theory of Everything', 'Science', 2002, 100), ('The Da Vinci Code', 'Mystery', 2003, 300), ('The Grand Design', 'Science', 2010, 90)]\n"
     ]
    }
   ],
   "source": [
    "# Defining a list of tuple, it is a globle and can be called from inside the function also\n",
    "books = [\n",
    "    (\"The Alchemist\", \"Fiction\", 1988, 250),\n",
    "    (\"The Da Vinci Code\", \"Mystery\", 2003, 300),\n",
    "    (\"A Brief History of Time\", \"Science\", 1988, 150),\n",
    "    (\"The Theory of Everything\", \"Science\", 2002, 100),\n",
    "    (\"Pride and Prejudice\", \"Fiction\", 1813, 200),\n",
    "    (\"To Kill a Mockingbird\", \"Fiction\", 1960, 180),\n",
    "    (\"The Catcher in the Rye\", \"Fiction\", 1951, 220),\n",
    "    (\"Angels & Demons\", \"Mystery\", 2000, 210),\n",
    "    (\"The Grand Design\", \"Science\", 2010, 90),\n",
    "    (\"1984\", \"Fiction\", 1949, 190)\n",
    "]\n",
    "\n",
    "#Defining a empty list that contain the list of books after sorting\n",
    "filtered_books=[]\n",
    "sorted_book=[]\n",
    "\n",
    "# Task 01\n",
    "#Defining a function filter_books that can filter the given conditions\n",
    "def filter_books(genre,year):\n",
    "    for book in books:\n",
    "        if book[1]==genre and book[2]>=year:\n",
    "            filtered_books.append(book[0]) # adding the books in list that match the given condition\n",
    "    return filtered_books\n",
    "\n",
    "# Task 02\n",
    "#using a sorted and lambda function to sort the list of tuple function a\n",
    "def sort_books():\n",
    "    sorted_book=sorted(books, key= lambda item: item[2], reverse=False)\n",
    "    return sorted_book\n",
    "\n",
    "#Calling the function\n",
    "print(\"Here we get the  List of books filtered by genre 'Fiction' and released on either '1960' or after '1960'\")\n",
    "print(filter_books(\"Fiction\",1960))\n",
    "print(\"\\n\")\n",
    "print(\"Here we get the list of books sorted by publication year in ascending \")\n",
    "print(sort_books())"
   ]
  },
  {
   "cell_type": "code",
   "execution_count": null,
   "id": "f01c51ec",
   "metadata": {},
   "outputs": [],
   "source": []
  }
 ],
 "metadata": {
  "kernelspec": {
   "display_name": "Python 3 (ipykernel)",
   "language": "python",
   "name": "python3"
  },
  "language_info": {
   "codemirror_mode": {
    "name": "ipython",
    "version": 3
   },
   "file_extension": ".py",
   "mimetype": "text/x-python",
   "name": "python",
   "nbconvert_exporter": "python",
   "pygments_lexer": "ipython3",
   "version": "3.11.5"
  }
 },
 "nbformat": 4,
 "nbformat_minor": 5
}

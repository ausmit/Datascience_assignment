{
 "cells": [
  {
   "cell_type": "markdown",
   "id": "4dd131f5",
   "metadata": {},
   "source": [
    "## Problem Statement\n",
    "We want to build an online shopping cart system that allows users to add products to their cart, calculate the total cost, apply discounts, and generate an invoice. The system should include the following functionalities:\n",
    "\n",
    "    - Adding products to the cart\n",
    "    - Removing products from the cart\n",
    "    - Calculating the total cost\n",
    "    - Applying discounts based on user type\n",
    "    - Generating an invoice\n"
   ]
  },
  {
   "cell_type": "markdown",
   "id": "0d65bd74",
   "metadata": {},
   "source": [
    "### 1. Create the Product class\n",
    "We create a basic Product class with attributes for the product name and price."
   ]
  },
  {
   "cell_type": "code",
   "execution_count": null,
   "id": "635ef06a",
   "metadata": {},
   "outputs": [],
   "source": []
  },
  {
   "cell_type": "code",
   "execution_count": null,
   "id": "dde5bc2c",
   "metadata": {},
   "outputs": [],
   "source": []
  }
 ],
 "metadata": {
  "kernelspec": {
   "display_name": "Python 3 (ipykernel)",
   "language": "python",
   "name": "python3"
  },
  "language_info": {
   "codemirror_mode": {
    "name": "ipython",
    "version": 3
   },
   "file_extension": ".py",
   "mimetype": "text/x-python",
   "name": "python",
   "nbconvert_exporter": "python",
   "pygments_lexer": "ipython3",
   "version": "3.11.5"
  }
 },
 "nbformat": 4,
 "nbformat_minor": 5
}

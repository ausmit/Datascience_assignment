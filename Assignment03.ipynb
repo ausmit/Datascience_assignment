{
 "cells": [
  {
   "cell_type": "markdown",
   "id": "1bfbcd4f",
   "metadata": {},
   "source": [
    "## Problem Statement\n",
    "We want to build an online shopping cart system that allows users to add products to their cart, calculate the total cost, apply discounts, and generate an invoice. The system should include the following functionalities:\n",
    "\n",
    "    - Adding products to the cart\n",
    "    - Removing products from the cart\n",
    "    - Calculating the total cost\n",
    "    - Applying discounts based on user type\n",
    "    - Generating an invoice\n"
   ]
  },
  {
   "cell_type": "markdown",
   "id": "99954dd0",
   "metadata": {},
   "source": [
    "### 1. Create the Product class\n",
    "We create a basic Product class with attributes for the product name and price."
   ]
  },
  {
   "cell_type": "code",
   "execution_count": 1,
   "id": "efeae7cb",
   "metadata": {},
   "outputs": [],
   "source": []
  },
  {
   "cell_type": "markdown",
   "id": "683cb12d",
   "metadata": {},
   "source": [
    "### 2. Implement the User class\n",
    "In this step, we create a User class with attributes for the user's name and whether they are a premium member. We then modify the calculate_total_cost method in the ShoppingCart class to apply a 10% discount for premium users."
   ]
  },
  {
   "cell_type": "code",
   "execution_count": 34,
   "id": "357940e5",
   "metadata": {},
   "outputs": [],
   "source": [
    "class Product:\n",
    "    def __init__(self,name, price):\n",
    "        self.name= name\n",
    "        self.price= price\n",
    "    \n",
    "    def __str__(self):\n",
    "        return f\"{self.name}-{self.price}\"\n",
    "    \n",
    "    \n",
    "class User:\n",
    "    def __init__(self, name, membership):\n",
    "        self.name= name\n",
    "        self.membership= membership\n",
    "        \n",
    "    \n",
    "class ShoppingCart:\n",
    "    def __init__(self,user):\n",
    "        self.user= user\n",
    "        self.items= []\n",
    "    \n",
    "    def add_product(self,product):\n",
    "        self.items.append(product)\n",
    "        print(f\"Added {product.name} of price {product.price} to the cart\")\n",
    "    \n",
    "    def remove_product(self,product):\n",
    "        if product in self.items:\n",
    "            self.items.remove(product)\n",
    "            print(f\"Removed {product.name} from the cart\")\n",
    "            \n",
    "    def display_items(self):\n",
    "        for product in self.items:\n",
    "            print(product)\n",
    "\n",
    "    \n",
    "    def calculate_total_cost(self):\n",
    "        total= sum(product.price for product in self.items)\n",
    "        if self.user.membership==\"premium\":\n",
    "            return total-0.1*total             \n",
    "        else:\n",
    "            return total\n",
    "    \n",
    "    def invoice_generator(self):\n",
    "        print(f\"Invoice for {self.user.name}, Membership: {self.user.membership}\")\n",
    "        print(\"Total Item in the cart with the price are:\")\n",
    "        self.display_items()\n",
    "        print(f\"Total cost of all the product is: {self.calculate_total_cost()}\")\n",
    "        \n",
    "        "
   ]
  },
  {
   "cell_type": "code",
   "execution_count": 35,
   "id": "827aa8e8",
   "metadata": {},
   "outputs": [],
   "source": [
    "user1 = User(\"Asmit\",\"premium\")"
   ]
  },
  {
   "cell_type": "code",
   "execution_count": 36,
   "id": "40f244e3",
   "metadata": {},
   "outputs": [],
   "source": [
    "mobile= Product(\"s21\",120000)\n",
    "tv= Product(\"sam21\",70000)\n",
    "book= Product(\"Lies of Haven\",1200)"
   ]
  },
  {
   "cell_type": "code",
   "execution_count": 37,
   "id": "f90d21a9",
   "metadata": {},
   "outputs": [],
   "source": [
    "cart1= ShoppingCart(user1)"
   ]
  },
  {
   "cell_type": "code",
   "execution_count": 38,
   "id": "a817c002",
   "metadata": {},
   "outputs": [
    {
     "name": "stdout",
     "output_type": "stream",
     "text": [
      "Added s21 of price 120000 to the cart\n",
      "Added sam21 of price 70000 to the cart\n",
      "Added Lies of Haven of price 1200 to the cart\n"
     ]
    }
   ],
   "source": [
    "cart1.add_product(mobile)\n",
    "cart1.add_product(tv)\n",
    "cart1.add_product(book)"
   ]
  },
  {
   "cell_type": "code",
   "execution_count": 39,
   "id": "8a8e10c0",
   "metadata": {},
   "outputs": [
    {
     "name": "stdout",
     "output_type": "stream",
     "text": [
      "s21-120000\n",
      "sam21-70000\n",
      "Lies of Haven-1200\n"
     ]
    }
   ],
   "source": [
    "cart1.display_items()"
   ]
  },
  {
   "cell_type": "code",
   "execution_count": 40,
   "id": "bd4abc17",
   "metadata": {},
   "outputs": [
    {
     "data": {
      "text/plain": [
       "172080.0"
      ]
     },
     "execution_count": 40,
     "metadata": {},
     "output_type": "execute_result"
    }
   ],
   "source": [
    "cart1.calculate_total_cost()"
   ]
  },
  {
   "cell_type": "code",
   "execution_count": 41,
   "id": "bd99d38e",
   "metadata": {},
   "outputs": [
    {
     "name": "stdout",
     "output_type": "stream",
     "text": [
      "Invoice for Asmit, Membership: premium\n",
      "Total Item in the cart with the price are:\n",
      "s21-120000\n",
      "sam21-70000\n",
      "Lies of Haven-1200\n",
      "Total cost of all the product is: 172080.0\n"
     ]
    }
   ],
   "source": [
    "cart1.invoice_generator()"
   ]
  },
  {
   "cell_type": "code",
   "execution_count": null,
   "id": "53e81331",
   "metadata": {},
   "outputs": [],
   "source": []
  },
  {
   "cell_type": "code",
   "execution_count": null,
   "id": "4897446e",
   "metadata": {},
   "outputs": [],
   "source": []
  },
  {
   "cell_type": "code",
   "execution_count": null,
   "id": "8dc15ca5",
   "metadata": {},
   "outputs": [],
   "source": []
  }
 ],
 "metadata": {
  "kernelspec": {
   "display_name": "Python 3 (ipykernel)",
   "language": "python",
   "name": "python3"
  },
  "language_info": {
   "codemirror_mode": {
    "name": "ipython",
    "version": 3
   },
   "file_extension": ".py",
   "mimetype": "text/x-python",
   "name": "python",
   "nbconvert_exporter": "python",
   "pygments_lexer": "ipython3",
   "version": "3.11.5"
  }
 },
 "nbformat": 4,
 "nbformat_minor": 5
}

{
 "cells": [
  {
   "cell_type": "markdown",
   "id": "c4e63016",
   "metadata": {},
   "source": [
    "## Question 1: Check for Palindrome\n",
    "\n",
    "Write a Python program using a lambda function to check if a given string is a palindrome.\n",
    "\n",
    "### Example:\n",
    "\n",
    "**Input:**  \n",
    "`\"level\"`\n",
    "\n",
    "**Output:**  \n",
    "`True`"
   ]
  },
  {
   "cell_type": "code",
   "execution_count": 6,
   "id": "f52dbc25",
   "metadata": {},
   "outputs": [
    {
     "name": "stdout",
     "output_type": "stream",
     "text": [
      "level\n",
      "given text is palindrom\n"
     ]
    }
   ],
   "source": [
    "# Normal way of checking if the given string is palindrom or not\n",
    "text = \"level\"\n",
    "reverse = text[::-1]\n",
    "print(reverse)\n",
    "if text==reverse:\n",
    "    print(\"given text is palindrom\")\n",
    "else:\n",
    "    print(\"given text is not palindrom\")"
   ]
  },
  {
   "cell_type": "code",
   "execution_count": 34,
   "id": "14af1bd0",
   "metadata": {},
   "outputs": [
    {
     "data": {
      "text/plain": [
       "False"
      ]
     },
     "execution_count": 34,
     "metadata": {},
     "output_type": "execute_result"
    }
   ],
   "source": [
    "# checking the palindrom using the lanbda function\n",
    "# Defining a function called palindrom \n",
    "def palindrom(text):\n",
    "    \"\"\"\n",
    "    1. Function palindrom takes the arguments\n",
    "    2. reverse the given text using the lambda function\n",
    "    3. if the reversed_text is same as given text than return true else false\n",
    "    \"\"\"\n",
    "    reverse = lambda x: x[::-1]\n",
    "    reversed_text= reverse(text)\n",
    "    if reversed_text == text:\n",
    "        return True\n",
    "    else:\n",
    "        return False\n",
    "#Calling the function palindrom by passing the string argument\n",
    "palindrom(\"level\")\n",
    "palindrom(\"asmit\")"
   ]
  },
  {
   "cell_type": "markdown",
   "id": "df1dddb3",
   "metadata": {},
   "source": [
    "## Question 2:\n",
    "\n",
    "Write a Python program to check whether a given number is an Armstrong number or not.\n",
    "\n",
    "**Definition:** An Armstrong number (also known as a narcissistic number) is a number that is equal to the sum of its own digits each raised to the power of the number of digits. For example:\n",
    "\n",
    "- 153 is an Armstrong number because ( 1^3 + 5^3 + 3^3 = 153 ).\n",
    "- 9474 is an Armstrong number because ( 9^4 + 4^4 + 7^4 + 4^4 = 9474 ).\n",
    "\n",
    "### Input:\n",
    "An integer (e.g., 153).\n",
    "\n",
    "### Output:\n",
    "Output \"Yes, it's an Armstrong number.\" if the number is an Armstrong number. Otherwise, output \"No, it's not an Armstrong number.\"\n",
    "\n",
    "### Constraints:\n",
    "- The input should be a positive integer."
   ]
  },
  {
   "cell_type": "code",
   "execution_count": 26,
   "id": "7d6fc972",
   "metadata": {},
   "outputs": [
    {
     "data": {
      "text/plain": [
       "\"Yes, it's not an Armstrong number\""
      ]
     },
     "execution_count": 26,
     "metadata": {},
     "output_type": "execute_result"
    }
   ],
   "source": [
    "#define a function called armstrong that takes an arguments\n",
    "def armstrong(num):\n",
    "    \"\"\"\n",
    "    First: convert the given number to the string so that we can find the length of it\n",
    "    second: store the num value in another variable called number\n",
    "            so that we can use it later because num value will be changed during while loop\n",
    "    third: use while loop to split the number and take the sum like ( 1^3 + 5^3 + 3^3 = 153 )\n",
    "            but the difference is here we add it like (3^3+5^31^3=153) \n",
    "    fourth: check for the condition if the sum we got is equal to the previous taken number i.e \n",
    "            if sum ==  number, if yes return it is an armstrong number else not\n",
    "    \"\"\"\n",
    "    length = len(str(num))\n",
    "    number = num\n",
    "    sum = 0\n",
    "    while num>0:\n",
    "        rem = num%10\n",
    "        sum = sum + rem**length\n",
    "        num = num//10\n",
    "    if sum == number:\n",
    "        return \"Yes, it's an Armstrong number\"\n",
    "    else:\n",
    "        return \"Yes, it's not an Armstrong number\"\n",
    "\n",
    "# call the function armstrong by passing an arguments\n",
    "armstrong(153)\n",
    "armstrong(9474)\n",
    "armstrong(9475)\n",
    "        \n",
    "        \n",
    "        "
   ]
  },
  {
   "cell_type": "code",
   "execution_count": 40,
   "id": "16e1362f",
   "metadata": {},
   "outputs": [
    {
     "name": "stdout",
     "output_type": "stream",
     "text": [
      "Yes it is an armstrong number\n",
      "Yes it is an armstrong number\n",
      "It is not an armstrong number\n"
     ]
    }
   ],
   "source": [
    "# finding an armstrong number using for loop\n",
    "#define a function called armstrong that takes an arguments\n",
    "def armstrong(num):\n",
    "    \"\"\" 1. integer is not iterable so converting interger to string to make it iterable\n",
    "        2. calculation the sum as favorable to armstrong number using for loop\n",
    "        3. checking if it is armstrong or not\n",
    "    \"\"\"\n",
    "    sum = 0\n",
    "    for i in str(num):\n",
    "        sum = sum + int(i)**len(str(num))\n",
    "    if sum == num:\n",
    "        print(\"Yes it is an armstrong number\")\n",
    "    else:\n",
    "        print(\"It is not an armstrong number\")\n",
    "\n",
    "# calling an armstrong function\n",
    "armstrong(153)\n",
    "armstrong(9474)\n",
    "armstrong(9475)\n",
    "        \n"
   ]
  },
  {
   "cell_type": "markdown",
   "id": "403de08d",
   "metadata": {},
   "source": [
    "## Question No: 3\n",
    "## Scenario:\n",
    "You are tasked with designing a system for a **vehicle rental company**. The company rents out various types of vehicles like **Cars** and **Bikes**, and each vehicle has some shared characteristics but also some distinct ones.\n",
    "\n",
    "### Requirements:\n",
    "1. Each **Vehicle** has attributes such as:\n",
    "   - `vehicle_id`: A unique identifier for the vehicle.\n",
    "   - `brand`: The brand of the vehicle.\n",
    "   - `rental_price`: Price per day to rent the vehicle.\n",
    "\n",
    "2. Both **Car** and **Bike** are types of **Vehicles**:\n",
    "   - A **Car** has an additional attribute: `number_of_doors`.\n",
    "   - A **Bike** has an additional attribute: `bike_type` (e.g., mountain bike, racing bike).\n",
    "\n",
    "3. You should provide methods to:\n",
    "   - **Calculate total rental cost**: Given the number of rental days, calculate the total cost for any vehicle.\n",
    "   - **Display vehicle details**: For both cars and bikes, display details including the unique attributes (e.g., `number_of_doors` for cars, `bike_type` for bikes).\n",
    "\n",
    "4. Implement the following **OOP concepts**:\n",
    "   - **Abstraction**: Provide a clean interface for calculating the total rental cost and displaying vehicle details, hiding the internal logic.\n",
    "   - **Inheritance**: Both **Car** and **Bike** should inherit common functionality from the **Vehicle** class.\n",
    "   - **Polymorphism**: Use method overriding so that the method for displaying vehicle details works differently for cars and bikes.\n",
    "\n",
    "---\n",
    "\n",
    "### Task:\n",
    "1. Define a **Vehicle** base class that implements the common attributes and methods.\n",
    "2. Define two subclasses **Car** and **Bike** that inherit from **Vehicle** and implement their specific attributes.\n",
    "3. Use encapsulation by making attributes private and providing public methods to interact with them.\n",
    "4. Use polymorphism to create a `display_details` method that behaves differently for **Car** and **Bike**.\n"
   ]
  },
  {
   "cell_type": "code",
   "execution_count": 108,
   "id": "5617db07",
   "metadata": {},
   "outputs": [
    {
     "name": "stdout",
     "output_type": "stream",
     "text": [
      "Lets get the details and total rent of Bike\n",
      "Vehicle ID: 1, Brand: Bajaj, \n",
      "Rental Price: 1000, Type: Normal\n",
      "The Total Cost of Renting bike for 2 days is: Nrp 2000 \n",
      "\n",
      "Lets get the details and total rent of Bike\n",
      "Vehicle ID: 2, Brand: Ford, \n",
      "Rental Price: 3000, Doors: 4\n",
      "The Total Cost of Renting Car for 2 days is: Nrp 6000\n"
     ]
    }
   ],
   "source": [
    "# Define a class called Vehicle\n",
    "class Vehicle:\n",
    "    \"\"\" Initializer function that takes the arguments that are common\"\"\"\n",
    "    def __init__(self,vehicle_id,brand,rental_price):\n",
    "        self.vehicle_id= vehicle_id\n",
    "        self.brand= brand\n",
    "        self.rental_price= rental_price\n",
    "        \n",
    "#define the sub class Car derived from class Vehicle     \n",
    "class Car(Vehicle):\n",
    "    \"\"\"Initializer function that takes extra argument called doors than the parent class\n",
    "            Here the super().__init__ function derive the arguments of parent class\"\"\"\n",
    "    def __init__(self,vehicle_id,brand,rental_price,doors):\n",
    "        super().__init__(vehicle_id,brand,rental_price)\n",
    "        self.doors= doors\n",
    "        \n",
    "    \"\"\" function rental_cost calculates the total rental cost of the veichle\"\"\"\n",
    "    def rental_cost(self, days):\n",
    "        return days*self.rental_price\n",
    "    \n",
    "    \"\"\" It returns the full details of the vehicle\"\"\"\n",
    "    def display_details(self):\n",
    "        return f\"\"\"Vehicle ID: {self.vehicle_id}, Brand: {self.brand}, \n",
    "Rental Price: {self.rental_price}, Doors: {self.doors}\"\"\"       \n",
    "\n",
    "class Bike(Vehicle):\n",
    "    def __init__(self,vehicle_id,brand,rental_price,bike_type):\n",
    "        super().__init__(vehicle_id,brand,rental_price)\n",
    "        self.bike_type= bike_type\n",
    "    \n",
    "    def rental_cost(self, days):\n",
    "        return days*self.rental_price\n",
    "    \n",
    "    def display_details(self):\n",
    "        return f\"\"\"Vehicle ID: {self.vehicle_id}, Brand: {self.brand}, \n",
    "Rental Price: {self.rental_price}, Type: {self.bike_type}\"\"\" \n",
    "    \n",
    "# Creating the object of subclass bike and calling the methods inside it\n",
    "days = 2\n",
    "bike1=Bike(1,\"Bajaj\",1000,\"Normal\")\n",
    "bike1.rental_cost(days)\n",
    "print(\"Lets get the details and total rent of Bike\")\n",
    "print(bike1.display_details())\n",
    "print(\"The Total Cost of Renting bike for\", days, \"days is: Nrp\",bike1.rental_cost(days),\"\\n\" )\n",
    "\n",
    "# Creating the object of subclass car and calling the methods inside it\n",
    "print(\"Lets get the details and total rent of Bike\")\n",
    "car1 = Car(2,\"Ford\",3000,4)\n",
    "car1.rental_cost(days)\n",
    "print(car1.display_details())\n",
    "print(\"The Total Cost of Renting Car for\", days, \"days is: Nrp\",car1.rental_cost(days) )"
   ]
  },
  {
   "cell_type": "code",
   "execution_count": null,
   "id": "f2bccbff",
   "metadata": {},
   "outputs": [],
   "source": []
  },
  {
   "cell_type": "markdown",
   "id": "fc54069b",
   "metadata": {},
   "source": [
    "## Question 4: File Read and Write\n",
    "\n",
    "Write a Program that Uses Functions `write_to_file` and `read_from_file`:\n",
    "\n",
    "- `write_to_file(filename, content)`: Writes `content` to a file named `filename`. If the file doesn't exist, it should be created.\n",
    "- `read_from_file(filename)`: Reads and prints the content of a file named `filename`. Call `write_to_file` to write \"Hello, Python!\" to a file named \"greetings.txt\", then call `read_from_file` to read and print the content of this file."
   ]
  },
  {
   "cell_type": "code",
   "execution_count": 116,
   "id": "7f23c0cb",
   "metadata": {},
   "outputs": [],
   "source": [
    "def write_to_file(filename, content):\n",
    "    with open(filename, mode = \"w\") as file:\n",
    "        file.write(content)\n",
    "        file.close()\n",
    "\n",
    "def read_from_file(filename):\n",
    "    with open(filename, mode = \"r\") as file:\n",
    "        print(file.read())\n",
    "        \n",
    "\n",
    "write_to_file(\"greetings.txt\",\"Hello, Asmit!\")\n"
   ]
  },
  {
   "cell_type": "code",
   "execution_count": 117,
   "id": "b2e8c1e5",
   "metadata": {},
   "outputs": [
    {
     "name": "stdout",
     "output_type": "stream",
     "text": [
      "Hello, Asmit!\n"
     ]
    }
   ],
   "source": [
    "read_from_file(\"greetings.txt\")"
   ]
  },
  {
   "cell_type": "code",
   "execution_count": null,
   "id": "47fedb2d",
   "metadata": {},
   "outputs": [],
   "source": []
  }
 ],
 "metadata": {
  "kernelspec": {
   "display_name": "Python 3 (ipykernel)",
   "language": "python",
   "name": "python3"
  },
  "language_info": {
   "codemirror_mode": {
    "name": "ipython",
    "version": 3
   },
   "file_extension": ".py",
   "mimetype": "text/x-python",
   "name": "python",
   "nbconvert_exporter": "python",
   "pygments_lexer": "ipython3",
   "version": "3.11.5"
  }
 },
 "nbformat": 4,
 "nbformat_minor": 5
}

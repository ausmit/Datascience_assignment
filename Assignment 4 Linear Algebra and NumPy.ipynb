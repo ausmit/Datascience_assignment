{
 "cells": [
  {
   "cell_type": "markdown",
   "id": "20f095cc",
   "metadata": {},
   "source": [
    "## Working with NumPy"
   ]
  },
  {
   "cell_type": "markdown",
   "id": "5f5b8d3d",
   "metadata": {},
   "source": [
    "### Task 1:\n",
    "    -- Import the numpy library and check its version."
   ]
  },
  {
   "cell_type": "code",
   "execution_count": 1,
   "id": "85777aae",
   "metadata": {},
   "outputs": [],
   "source": [
    "import numpy as np"
   ]
  },
  {
   "cell_type": "code",
   "execution_count": 2,
   "id": "8700a6c6",
   "metadata": {},
   "outputs": [
    {
     "name": "stdout",
     "output_type": "stream",
     "text": [
      "1.24.3\n"
     ]
    }
   ],
   "source": [
    "print(np.__version__)"
   ]
  },
  {
   "cell_type": "markdown",
   "id": "97236731",
   "metadata": {},
   "source": [
    "### Creating a NumPy Array:\n",
    "    -NumPy arrays are a powerful way to store and process large datasets. In this section, you will learn to create arrays."
   ]
  },
  {
   "cell_type": "markdown",
   "id": "e4b92244",
   "metadata": {},
   "source": [
    "### Task 2:\n",
    "       -- Create a 1D NumPy array from a Python list of numbers: [1, 2, 3, 4, 5].\n",
    "       -- Create a 2D NumPy array of shape (3x3) using the numbers from 1 to 9.\n",
    "       -- Generate an array of 10 evenly spaced values between 0 and 5."
   ]
  },
  {
   "cell_type": "markdown",
   "id": "c0ed1858",
   "metadata": {},
   "source": [
    "-- Create a 1D NumPy array from a Python list of numbers: [1, 2, 3, 4, 5]."
   ]
  },
  {
   "cell_type": "code",
   "execution_count": 30,
   "id": "dad60053",
   "metadata": {},
   "outputs": [
    {
     "name": "stdout",
     "output_type": "stream",
     "text": [
      "print the array 1:  [1 2 3 4 5]\n",
      "Dimension of an array is:  1\n",
      "Shape of an array is:  (5,)\n"
     ]
    }
   ],
   "source": [
    "# Creating a 1D NumPy array from apython list of numbers\n",
    "\n",
    "arr1= np.array([1, 2, 3, 4, 5])\n",
    "print(\"print the array 1: \",arr1)\n",
    "print(\"Dimension of an array is: \",arr1.ndim)  # Findng the dimension of array\n",
    "print(\"Shape of an array is: \" , arr1.shape) # Finding the shape of an array"
   ]
  },
  {
   "cell_type": "code",
   "execution_count": 51,
   "id": "416638e1",
   "metadata": {},
   "outputs": [
    {
     "name": "stdout",
     "output_type": "stream",
     "text": [
      "print the array 2: \n",
      "\n",
      "  [[1 2 3 4 5]\n",
      " [1 2 3 4 5]]\n",
      "\n",
      "Dimension of an array is:  1\n",
      "Shape of an array is:  (5,)\n"
     ]
    }
   ],
   "source": [
    "# Creating a 2D NumPy array from apython list of numbers\n",
    "\n",
    "arr2= np.array([[1, 2, 3, 4, 5],[1, 2, 3, 4, 5]])\n",
    "print(\"print the array 2: \\n\\n \",arr2)\n",
    "print(\"\\nDimension of an array is: \",arr1.ndim)  # Findng the dimension of array\n",
    "print(\"Shape of an array is: \" , arr1.shape) # Finding the shape of an array"
   ]
  },
  {
   "cell_type": "markdown",
   "id": "8a0eb0c0",
   "metadata": {},
   "source": [
    " ### -- Create a 2D NumPy array of shape (3x3) using the numbers from 1 to 9."
   ]
  },
  {
   "cell_type": "code",
   "execution_count": 48,
   "id": "01f0d301",
   "metadata": {},
   "outputs": [
    {
     "name": "stdout",
     "output_type": "stream",
     "text": [
      "The below array is 2D Numpy array of shape(3x3) of number randomly generated from 1 to 9 \n",
      "\n",
      "[[4 6 7]\n",
      " [2 1 1]\n",
      " [7 4 7]]\n"
     ]
    }
   ],
   "source": [
    "arr3= np.random.randint(1,9,(3,3))\n",
    "print(\"The below array is 2D Numpy array of shape(3x3) of number randomly generated from 1 to 9 \\n\")\n",
    "print(arr3)"
   ]
  },
  {
   "cell_type": "markdown",
   "id": "b6d4cca4",
   "metadata": {},
   "source": [
    "### -- Generate an array of 10 evenly spaced values between 0 and 5."
   ]
  },
  {
   "cell_type": "code",
   "execution_count": 47,
   "id": "329bf037",
   "metadata": {},
   "outputs": [
    {
     "name": "stdout",
     "output_type": "stream",
     "text": [
      "Array of 10 evenly spaced values between 0 and 5: \n",
      "\n",
      "[0.         0.55555556 1.11111111 1.66666667 2.22222222 2.77777778\n",
      " 3.33333333 3.88888889 4.44444444 5.        ]\n"
     ]
    }
   ],
   "source": [
    "arr4= np.linspace(start= 0, stop= 5, num=10)\n",
    "print(\"Array of 10 evenly spaced values between 0 and 5: \\n\")\n",
    "print(arr4)"
   ]
  },
  {
   "cell_type": "code",
   "execution_count": null,
   "id": "d47e8581",
   "metadata": {},
   "outputs": [],
   "source": []
  },
  {
   "cell_type": "markdown",
   "id": "e8653e6b",
   "metadata": {},
   "source": [
    "### Indexing and Slicing Arrays:\n",
    "    -Indexing and slicing allow you to access and modify specific elements of an array.\n",
    "\n",
    "**Task 3:**\n",
    "\n",
    "    Access the element in the second row, third column of the 2D array you created above.\n",
    "    Slice the first two rows and the first two columns from the same array.\n",
    "    Modify the value in the last row and first column to 100."
   ]
  },
  {
   "cell_type": "code",
   "execution_count": 75,
   "id": "bbd2861d",
   "metadata": {},
   "outputs": [
    {
     "name": "stdout",
     "output_type": "stream",
     "text": [
      " Print the 2D Array that we have created above: \n",
      " [[  4   6   7]\n",
      " [  2   1   1]\n",
      " [100   4   7]]\n",
      " Accessing the element is second row, third column arr3[1][2]:  1\n",
      "\n",
      " Slice the first two rows and the first two columns from the same array: \n",
      " [[4 6]\n",
      " [2 1]]\n",
      "\n",
      " Modify the value in the last row and first column to 100.: \n",
      " [[  4   6   7]\n",
      " [  2   1   1]\n",
      " [100   4   7]]\n"
     ]
    }
   ],
   "source": [
    "# Here the 2D array that we have created above is : arr3= np.random.randint(1,9,(3,3))\n",
    "print(\" Print the 2D Array that we have created above: \\n\", arr3)\n",
    "\n",
    "#Accessing element using indexing\n",
    "\n",
    "print(\" Accessing the element is second row, third column arr3[1][2]: \", arr3[1][2])\n",
    "\n",
    "#Accessing elemets using slicing\n",
    "# array[<row_slice>,<col_slice>]\n",
    "print(\"\\n Slice the first two rows and the first two columns from the same array: \\n\", arr3[0:2,0:2])\n",
    "\n",
    "\n",
    "#Modify the value in the last row and first column to 100.\n",
    "arr3[2][0]=100\n",
    "print(\"\\n Modify the value in the last row and first column to 100.: \\n\", arr3 )\n",
    "\n"
   ]
  },
  {
   "cell_type": "code",
   "execution_count": 66,
   "id": "951a8505",
   "metadata": {},
   "outputs": [
    {
     "data": {
      "text/plain": [
       "array([[  4,   6,   7],\n",
       "       [  2,   1,   1],\n",
       "       [100,   4,   7]])"
      ]
     },
     "execution_count": 66,
     "metadata": {},
     "output_type": "execute_result"
    }
   ],
   "source": [
    "arr3[2][0]=100\n",
    "arr3"
   ]
  },
  {
   "cell_type": "code",
   "execution_count": null,
   "id": "ee9d7229",
   "metadata": {},
   "outputs": [],
   "source": []
  },
  {
   "cell_type": "markdown",
   "id": "d77c7f8b",
   "metadata": {},
   "source": [
    "### Properties and Methods of NumPy Arrays\n",
    "NumPy arrays have several useful properties and methods.\n",
    "\n",
    "**Task 4:**\n",
    "\n",
    "    Find the shape, size, and data type of the 2D array.\n",
    "    Change the 1D array into a 2D array of shape (5,1).\n",
    "    Flatten a multi-dimensional array back into a 1D array."
   ]
  },
  {
   "cell_type": "code",
   "execution_count": 82,
   "id": "bbc0e1a4",
   "metadata": {},
   "outputs": [
    {
     "name": "stdout",
     "output_type": "stream",
     "text": [
      "Print the 2D array created above:\n",
      "  [[  4   6   7]\n",
      " [  2   1   1]\n",
      " [100   4   7]]\n",
      "Shape of an array: (3, 3)\n",
      "size of an array: 9\n",
      "data tyoe of an array: int32\n"
     ]
    }
   ],
   "source": [
    "# Fiind the shape, size, and data type of the 2D array.\n",
    "print(\"Print the 2D array created above:\\n \", arr3)\n",
    "print(\"Shape of an array:\" ,arr3.shape)\n",
    "print(\"size of an array:\" ,arr3.size)\n",
    "print(\"data tyoe of an array:\" ,arr3.dtype)"
   ]
  },
  {
   "cell_type": "code",
   "execution_count": 98,
   "id": "7e02b1ee",
   "metadata": {},
   "outputs": [
    {
     "name": "stdout",
     "output_type": "stream",
     "text": [
      "Array of 1D Created above:  [1 2 3 4 5]\n",
      "2D ARray Created  by reshaping the arr1 above:\n",
      " [[1]\n",
      " [2]\n",
      " [3]\n",
      " [4]\n",
      " [5]]\n",
      "Flatten a multi-dimensional array back into a 1D array:\n",
      " [  4   6   7   2   1   1 100   4   7]\n"
     ]
    }
   ],
   "source": [
    "#Change the 1D array into a 2D array of shape (5,1)\n",
    "print(\"Array of 1D Created above: \", arr1)\n",
    "\n",
    "#reshaping the given array into 2D array\n",
    "array1= arr1.reshape(5,1)\n",
    "print(\"2D ARray Created  by reshaping the arr1 above:\\n\",array1)\n",
    "\n",
    "#Flatten a multi-dimensional array back into a 1D array.\n",
    "# flatten() is somewhat same as ravel  but ravel is best for memory consumption\n",
    "print(\"Flatten a multi-dimensional array back into a 1D array:\\n\",arr3.flatten() )\n"
   ]
  },
  {
   "cell_type": "markdown",
   "id": "b93e4b0b",
   "metadata": {},
   "source": [
    "## Operations on NumPy Arrays\n",
    "    Perform operations such as addition, subtraction, multiplication, and matrix multiplication on arrays.\n",
    "\n",
    "**Task 5:**\n",
    "\n",
    "    Add 5 to every element in the 1D array.\n",
    "    Multiply the 2D array by 3.\n",
    "    Perform matrix multiplication between the following two arrays:\n",
    "        A = np.array([[1, 2], [3, 4]])\n",
    "        B = np.array([[5, 6], [7, 8]])"
   ]
  },
  {
   "cell_type": "code",
   "execution_count": 119,
   "id": "0cbc3bc4",
   "metadata": {},
   "outputs": [
    {
     "name": "stdout",
     "output_type": "stream",
     "text": [
      "Lets see the 1D array that we have:\n",
      " [1 2 3 4 5]\n",
      "Adding the value 5 to each element of array:\n",
      "[ 6  7  8  9 10]\n",
      "Multiplying the 2D array by 3:\n",
      "\n",
      "[[ 12  18  21]\n",
      " [  6   3   3]\n",
      " [300  12  21]]\n",
      "Array of A\n",
      " [[1 2]\n",
      " [3 4]]\n",
      "Array of B\n",
      " [[5 6]\n",
      " [7 8]]\n",
      "Multiplication of A and B is: \n",
      " [[19 22]\n",
      " [43 50]]\n",
      "Alternatively you can do Matix Multiplication of A and B using: A@B \n",
      " [[19 22]\n",
      " [43 50]]\n"
     ]
    }
   ],
   "source": [
    "print(\"Lets see the 1D array that we have:\\n\", arr1)\n",
    "print(\"Adding the value 5 to each element of array:\")\n",
    "print(np.add(5,arr1))\n",
    "\n",
    "print(\"Multiplying the 2D array by 3:\\n\")\n",
    "print(np.multiply(3,arr3))\n",
    "\n",
    "#Perform matrix multiplication between the following two arrays:\n",
    "A = np.array([[1, 2], [3, 4]])\n",
    "B = np.array([[5, 6], [7, 8]])\n",
    "print(\"Array of A\\n\", A)\n",
    "print(\"Array of B\\n\", B)\n",
    "print(f\"Multiplication of A and B is: \\n {np.dot(A,B)}\")\n",
    "print(f\"Alternatively you can do Matix Multiplication of A and B using: A@B \\n {A@B}\")\n"
   ]
  },
  {
   "cell_type": "code",
   "execution_count": null,
   "id": "807bb8ac",
   "metadata": {},
   "outputs": [],
   "source": []
  },
  {
   "cell_type": "markdown",
   "id": "c94ec721",
   "metadata": {},
   "source": [
    "### Understanding Broadcasting\n",
    "**Broadcasting allows NumPy to work with arrays of different shapes during arithmetic operations.**\n",
    "\n",
    "**Task 6:**\n",
    "\n",
    "    Create a 3x3 matrix of ones and a 1D array of length 3.\n",
    "    Add the 1D array to each row of the matrix using broadcasting."
   ]
  },
  {
   "cell_type": "code",
   "execution_count": 150,
   "id": "db7ca6f5",
   "metadata": {},
   "outputs": [
    {
     "name": "stdout",
     "output_type": "stream",
     "text": [
      "3X3 Matrics of ones is:\n",
      " [[1. 1. 1.]\n",
      " [1. 1. 1.]\n",
      " [1. 1. 1.]]\n",
      "1D array of length 3\n",
      "  [1 1 0]\n"
     ]
    }
   ],
   "source": [
    "#Create a 3x3 matrix of ones and a 1D array of length 3.\n",
    "array_ones= np.ones(shape= (3,3))\n",
    "print(\"3X3 Matrics of ones is:\\n\", array_ones)\n",
    "array1= np.random.randint(0,10,3)\n",
    "# array_1= np.array([1,2,3])\n",
    "print(\"1D array of length 3\\n \",array1)\n",
    "# print(\"1D array of length 3\\n\"array_1)\n",
    "\n",
    "#Add the 1D array to each row of the matrix using broadcasting.\n",
    "result= array_ones+array1\n",
    "print(\"Addition of 1D array to the Ma\"result)"
   ]
  },
  {
   "cell_type": "code",
   "execution_count": 147,
   "id": "3ca1e1fa",
   "metadata": {},
   "outputs": [
    {
     "name": "stdout",
     "output_type": "stream",
     "text": [
      "[[5. 6. 4.]\n",
      " [5. 6. 4.]\n",
      " [5. 6. 4.]]\n"
     ]
    }
   ],
   "source": []
  },
  {
   "cell_type": "code",
   "execution_count": null,
   "id": "fbe552d6",
   "metadata": {},
   "outputs": [],
   "source": []
  }
 ],
 "metadata": {
  "kernelspec": {
   "display_name": "Python 3 (ipykernel)",
   "language": "python",
   "name": "python3"
  },
  "language_info": {
   "codemirror_mode": {
    "name": "ipython",
    "version": 3
   },
   "file_extension": ".py",
   "mimetype": "text/x-python",
   "name": "python",
   "nbconvert_exporter": "python",
   "pygments_lexer": "ipython3",
   "version": "3.11.5"
  }
 },
 "nbformat": 4,
 "nbformat_minor": 5
}
